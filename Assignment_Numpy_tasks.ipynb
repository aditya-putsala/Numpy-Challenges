{
  "cells": [
    {
      "cell_type": "markdown",
      "metadata": {
        "id": "h9JJ5iDT2Lim"
      },
      "source": [
        "# Numpy\n",
        "\n"
      ]
    },
    {
      "cell_type": "markdown",
      "metadata": {
        "id": "3SCU-g1t2Li0"
      },
      "source": [
        "#### 1. Import the numpy package under the name `np` (★☆☆) \n",
        "(**hint**: import … as …)"
      ]
    },
    {
      "cell_type": "code",
      "execution_count": null,
      "metadata": {
        "collapsed": true,
        "id": "F84Mf3Nx2Li3"
      },
      "outputs": [],
      "source": [
        "import numpy as np"
      ]
    },
    {
      "cell_type": "markdown",
      "metadata": {
        "id": "-S-ZlJdV2Li5"
      },
      "source": [
        "#### 2. Print the numpy version and the configuration (★☆☆) \n",
        "(**hint**: np.\\_\\_version\\_\\_, np.show\\_config)"
      ]
    },
    {
      "cell_type": "code",
      "execution_count": null,
      "metadata": {
        "id": "o2bjC3G32Li7"
      },
      "outputs": [],
      "source": [
        "print(np._version_)\n",
        "np.show_config.show()"
      ]
    },
    {
      "cell_type": "markdown",
      "metadata": {
        "id": "h755CC8i2Li8"
      },
      "source": [
        "#### 3. Create a null vector of size 10 (★☆☆) \n",
        "(**hint**: np.zeros)"
      ]
    },
    {
      "cell_type": "code",
      "execution_count": null,
      "metadata": {
        "id": "HNNcPFYG2Li-"
      },
      "outputs": [],
      "source": [
        "array = np.zeros(10)\n",
        "array"
      ]
    },
    {
      "cell_type": "markdown",
      "metadata": {
        "id": "6ZC0jr8U2LjB"
      },
      "source": [
        "#### 4.  How to find the memory size of any array (★☆☆) \n",
        "(**hint**: size, itemsize)"
      ]
    },
    {
      "cell_type": "code",
      "execution_count": null,
      "metadata": {
        "id": "_x-ftYKW2LjG"
      },
      "outputs": [],
      "source": [
        "array.size"
      ]
    },
    {
      "cell_type": "markdown",
      "metadata": {
        "id": "GzoyLSQ32LjI"
      },
      "source": [
        "#### 5.  How to get the documentation of the numpy add function from the command line? (★☆☆) \n",
        "(**hint**: np.info)"
      ]
    },
    {
      "cell_type": "code",
      "execution_count": null,
      "metadata": {
        "collapsed": true,
        "id": "gusxapt32LjJ"
      },
      "outputs": [],
      "source": [
        "# python -c \"import numpy; numpy.info(numpy.add)\""
      ]
    },
    {
      "cell_type": "markdown",
      "metadata": {
        "id": "OSAFDVfs2LjK"
      },
      "source": [
        "#### 6.  Create a null vector of size 10 but the fifth value which is 1 (★☆☆) \n",
        "(**hint**: array\\[4\\])"
      ]
    },
    {
      "cell_type": "code",
      "execution_count": null,
      "metadata": {
        "id": "zcZKyoh42LjL"
      },
      "outputs": [],
      "source": [
        "array = np.zeros(10)\n",
        "array[4] = 1\n",
        "array"
      ]
    },
    {
      "cell_type": "markdown",
      "metadata": {
        "id": "J9juYngW2LjM"
      },
      "source": [
        "#### 7.  Create a vector with values ranging from 10 to 49 (★☆☆) \n",
        "(**hint**: np.arange)"
      ]
    },
    {
      "cell_type": "code",
      "execution_count": null,
      "metadata": {
        "id": "uKYhqI7n2LjO"
      },
      "outputs": [],
      "source": [
        "a = np.arange(10,50)\n",
        "a"
      ]
    },
    {
      "cell_type": "markdown",
      "metadata": {
        "id": "DCFQZXyy2LjP"
      },
      "source": [
        "#### 8.  Reverse a vector (first element becomes last) (★☆☆) \n",
        "(**hint**: array\\[::-1\\])"
      ]
    },
    {
      "cell_type": "code",
      "execution_count": null,
      "metadata": {
        "id": "7zEUs05m2LjQ"
      },
      "outputs": [],
      "source": [
        "b = a[::-1]\n",
        "b"
      ]
    },
    {
      "cell_type": "markdown",
      "metadata": {
        "id": "oBTFvip92LjR"
      },
      "source": [
        "#### 9.  Create a 3x3 matrix with values ranging from 0 to 8 (★☆☆) \n",
        "(**hint**: reshape)"
      ]
    },
    {
      "cell_type": "code",
      "execution_count": null,
      "metadata": {
        "id": "DtvnnrB12LjT"
      },
      "outputs": [],
      "source": [
        "c = np.arange(0,9).reshape(3,3)\n",
        "c"
      ]
    },
    {
      "cell_type": "markdown",
      "metadata": {
        "id": "glJwx4DW2LjU"
      },
      "source": [
        "#### 10. Find indices of non-zero elements from \\[1,2,0,0,4,0\\] (★☆☆) \n",
        "(**hint**: np.nonzero)"
      ]
    },
    {
      "cell_type": "code",
      "execution_count": null,
      "metadata": {
        "id": "JB3YpHVV2LjW"
      },
      "outputs": [],
      "source": [
        "d = np.array([1,2,0,0,4,0])\n",
        "d0 = np.nonzero(d)\n",
        "d0"
      ]
    },
    {
      "cell_type": "markdown",
      "metadata": {
        "id": "xXQqzzX52LjW"
      },
      "source": [
        "#### 11. Create a 3x3 identity matrix (★☆☆) \n",
        "(**hint**: np.eye)"
      ]
    },
    {
      "cell_type": "code",
      "execution_count": null,
      "metadata": {
        "id": "eOW7UZUG2LjX"
      },
      "outputs": [],
      "source": [
        "e = np.eye(3)\n",
        "e"
      ]
    },
    {
      "cell_type": "markdown",
      "metadata": {
        "id": "meVJUFwl2LjY"
      },
      "source": [
        "#### 12. Create a 3x3x3 array with random values (★☆☆) \n",
        "(**hint**: np.random.random)"
      ]
    },
    {
      "cell_type": "code",
      "execution_count": null,
      "metadata": {
        "collapsed": true,
        "id": "X2xVJK_w2LjZ"
      },
      "outputs": [],
      "source": [
        "f = np.random.random((3,3,3))\n",
        "f"
      ]
    },
    {
      "cell_type": "markdown",
      "metadata": {
        "id": "lpMUBF2e2LjZ"
      },
      "source": [
        "#### 13. Create a 10x10 array with random values and find the minimum and maximum values (★☆☆) \n",
        "(**hint**: min, max)"
      ]
    },
    {
      "cell_type": "code",
      "execution_count": null,
      "metadata": {
        "id": "4FSNhNZ_2Lja"
      },
      "outputs": [],
      "source": [
        "g = np.random.random((10,10))\n",
        "gmin = g.min()\n",
        "gmax = g.max()\n",
        "print(gmin)\n",
        "gmax"
      ]
    },
    {
      "cell_type": "markdown",
      "metadata": {
        "id": "Qw-R6ZKv2Lja"
      },
      "source": [
        "#### 14. Create a random vector of size 30 and find the mean value (★☆☆) \n",
        "(**hint**: mean)"
      ]
    },
    {
      "cell_type": "code",
      "execution_count": null,
      "metadata": {
        "id": "PoH8TBve2Ljb"
      },
      "outputs": [],
      "source": [
        "h = np.random.random(30)\n",
        "h0 = np.mean(h)\n",
        "h0"
      ]
    },
    {
      "cell_type": "markdown",
      "metadata": {
        "id": "7JZXriG42Ljc"
      },
      "source": [
        "#### 15. Create a 2d array with 1 on the border and 0 inside (★☆☆) \n",
        "(**hint**: array\\[1:-1, 1:-1\\])"
      ]
    },
    {
      "cell_type": "code",
      "execution_count": null,
      "metadata": {
        "id": "6yF7p0PD2Ljd"
      },
      "outputs": [],
      "source": [
        "i = np.ones((6,6), dtype = int)\n",
        "i[1:-1,1:-1] = 0\n",
        "i"
      ]
    },
    {
      "cell_type": "markdown",
      "metadata": {
        "id": "x70PE7jY2Ljd"
      },
      "source": [
        "#### 16. How to add a border (filled with 0's) around an existing array? (★☆☆) \n",
        "(**hint**: np.pad)"
      ]
    },
    {
      "cell_type": "code",
      "execution_count": null,
      "metadata": {
        "id": "MXHzVg4v2Lje"
      },
      "outputs": [],
      "source": [
        "j = np.pad(i,pad_width = 1,mode = 'constant',constant_values = 0)\n",
        "j"
      ]
    },
    {
      "cell_type": "markdown",
      "metadata": {
        "id": "i5slr8Cn2Ljf"
      },
      "source": [
        "#### 17. What is the result of the following expression? (★☆☆) \n",
        "(**hint**: NaN = not a number, inf = infinity)"
      ]
    },
    {
      "cell_type": "markdown",
      "metadata": {
        "id": "QFQUsvrq2Ljg"
      },
      "source": [
        "```python\n",
        "0 * np.nan\n",
        "np.nan == np.nan\n",
        "np.inf > np.nan\n",
        "np.nan - np.nan\n",
        "0.3 == 3 * 0.1\n",
        "```"
      ]
    },
    {
      "cell_type": "code",
      "execution_count": null,
      "metadata": {
        "id": "BmLDkTk22Ljh"
      },
      "outputs": [],
      "source": [
        "# nan\n",
        "# False\n",
        "# False\n",
        "# nan\n",
        "# False"
      ]
    },
    {
      "cell_type": "markdown",
      "metadata": {
        "id": "Ddr_zNYK2Lji"
      },
      "source": [
        "#### 18. Create a 5x5 matrix with values 1,2,3,4 just below the diagonal (★☆☆) \n",
        "(**hint**: np.diag)"
      ]
    },
    {
      "cell_type": "code",
      "execution_count": null,
      "metadata": {
        "id": "qshVQpIX2Lji"
      },
      "outputs": [],
      "source": [
        "K = np.diag(np.arange(1,5), k = -1)"
      ]
    },
    {
      "cell_type": "markdown",
      "metadata": {
        "id": "WXI3UHXp2Ljj"
      },
      "source": [
        "#### 19. Create a 8x8 matrix and fill it with a checkerboard pattern (★☆☆) \n",
        "(**hint**: array\\[::2\\])"
      ]
    },
    {
      "cell_type": "code",
      "execution_count": null,
      "metadata": {
        "id": "2eMreE8N2Ljk"
      },
      "outputs": [],
      "source": [
        "l = np.zeros ((8,8), dtype=int)\n",
        "l[1::2, ::2] = 1\n",
        "l[::2, 1::2] = 1\n",
        "l"
      ]
    },
    {
      "cell_type": "markdown",
      "metadata": {
        "id": "Ne0dxjCr2Ljl"
      },
      "source": [
        "#### 20. Consider a (6,7,8) shape array, what is the index (x,y,z) of the 100th element? \n",
        "(**hint**: np.unravel_index)"
      ]
    },
    {
      "cell_type": "code",
      "execution_count": null,
      "metadata": {
        "id": "c1j5UYgx2Ljl"
      },
      "outputs": [],
      "source": [
        "m = np.unravel_index(100, (6,7,8))\n",
        "m"
      ]
    },
    {
      "cell_type": "markdown",
      "metadata": {
        "id": "_xFyoNA22Ljm"
      },
      "source": [
        "#### 21. Create a checkerboard 8x8 matrix using the tile function (★☆☆) \n",
        "(**hint**: np.tile)"
      ]
    },
    {
      "cell_type": "code",
      "execution_count": null,
      "metadata": {
        "id": "yoSW8t2H2Ljn"
      },
      "outputs": [],
      "source": [
        "n = np.array([[0,1],[1,0]])\n",
        "n0 = np.tile(n,(4,4))\n",
        "n0"
      ]
    },
    {
      "cell_type": "markdown",
      "metadata": {
        "id": "gCmUthas2Ljn"
      },
      "source": [
        "#### 22. Normalize a 5x5 random matrix (★☆☆) \n",
        "(**hint**: (x - min) / (max - min))"
      ]
    },
    {
      "cell_type": "code",
      "execution_count": null,
      "metadata": {
        "id": "JV_QkY4q2Ljo"
      },
      "outputs": [],
      "source": [
        "o = np.random.random((5,5))\n",
        "omax, omin = o.max(), o.min()\n",
        "o = (o-omin)/(omax-omin)\n",
        "o"
      ]
    },
    {
      "cell_type": "markdown",
      "metadata": {
        "id": "eJFrzqLw2Ljo"
      },
      "source": [
        "#### 23. Create a custom dtype that describes a color as four unsigned bytes (RGBA) (★☆☆) \n",
        "(**hint**: np.dtype)"
      ]
    },
    {
      "cell_type": "code",
      "execution_count": null,
      "metadata": {
        "collapsed": true,
        "id": "T7DvRJ3Y2Ljp"
      },
      "outputs": [],
      "source": [
        "p = np.dtype([(\"r\", np.ubyte, 1),\n",
        "              (\"g\", np.ubyte, 1),\n",
        "              (\"b\", np.ubyte, 1),\n",
        "              (\"a\", np.ubyte, 1)])\n",
        "p"
      ]
    },
    {
      "cell_type": "markdown",
      "metadata": {
        "id": "ZywK46332Ljq"
      },
      "source": [
        "#### 24. Multiply a 5x3 matrix by a 3x2 matrix (real matrix product) (★☆☆) \n",
        "(**hint**: np.dot | @)"
      ]
    },
    {
      "cell_type": "code",
      "execution_count": null,
      "metadata": {
        "id": "sOVWqxqX2Ljq"
      },
      "outputs": [],
      "source": [
        "q = np.dot(np.ones((5,3), dtype = int), np.ones((3,2), dtype = int))\n",
        "q"
      ]
    },
    {
      "cell_type": "markdown",
      "metadata": {
        "id": "5CPC1O8B2Ljr"
      },
      "source": [
        "#### 25. Given a 1D array, negate all elements which are between 3 and 8, in place. (★☆☆) \n",
        "(**hint**: >, <=)"
      ]
    },
    {
      "cell_type": "code",
      "execution_count": null,
      "metadata": {
        "id": "bm3QBI7g2Ljr"
      },
      "outputs": [],
      "source": [
        "r = np.arange(20)\n",
        "r[(r>=3) & (r<=8)] = -1\n",
        "r"
      ]
    },
    {
      "cell_type": "markdown",
      "metadata": {
        "id": "mC5xGwXJ2Ljs"
      },
      "source": [
        "#### 26. What is the output of the following script? (★☆☆) \n",
        "(**hint**: np.sum)"
      ]
    },
    {
      "cell_type": "markdown",
      "metadata": {
        "id": "ABiI5aDV2Ljx"
      },
      "source": [
        "```python\n",
        "# Author: Jake VanderPlas\n",
        "\n",
        "print(sum(range(5),-1))\n",
        "from numpy import *\n",
        "print(sum(range(5),-1))\n",
        "```"
      ]
    },
    {
      "cell_type": "code",
      "execution_count": null,
      "metadata": {
        "id": "u39kftCo2Ljy"
      },
      "outputs": [],
      "source": [
        "# 9\n",
        "# 10"
      ]
    },
    {
      "cell_type": "markdown",
      "metadata": {
        "id": "visq7xUW2Ljy"
      },
      "source": [
        "#### 27. Consider an integer vector Z, which of these expressions are legal? (★☆☆)"
      ]
    },
    {
      "cell_type": "markdown",
      "metadata": {
        "id": "1PG7SiAk2Ljy"
      },
      "source": [
        "```python\n",
        "Z**Z\n",
        "2 << Z >> 2\n",
        "Z <- Z\n",
        "1j*Z\n",
        "Z/1/1\n",
        "Z<Z>Z\n",
        "```"
      ]
    },
    {
      "cell_type": "code",
      "execution_count": null,
      "metadata": {
        "id": "q2grCKdi2Ljy"
      },
      "outputs": [],
      "source": [
        "z = np.array([0,1,2])\n",
        "# [1,1,4]\n",
        "# [0,1,2]\n",
        "# [False,False,False]\n",
        "# [0+0.j,0+1.j,0+2.j]\n",
        "# [0,1,2]\n",
        "# ValueError"
      ]
    },
    {
      "cell_type": "markdown",
      "metadata": {
        "id": "mNnVKK0v2Ljz"
      },
      "source": [
        "\n",
        "#### 28. What are the result of the following expressions?"
      ]
    },
    {
      "cell_type": "markdown",
      "metadata": {
        "id": "2k9WXWM02Lj0"
      },
      "source": [
        "```python\n",
        "np.array(0) / np.array(0)\n",
        "np.array(0) // np.array(0)\n",
        "np.array([np.nan]).astype(int).astype(float)\n",
        "```"
      ]
    },
    {
      "cell_type": "code",
      "execution_count": null,
      "metadata": {
        "id": "n6aSfi7g2Lj0"
      },
      "outputs": [],
      "source": [
        "# nan\n",
        "# 0\n",
        "# -inf"
      ]
    },
    {
      "cell_type": "markdown",
      "metadata": {
        "id": "GzdZ6WyA2Lj1"
      },
      "source": [
        "#### 29. How to round away from zero a float array ? (★☆☆) \n",
        "(**hint**: np.uniform, np.copysign, np.ceil, np.abs)"
      ]
    },
    {
      "cell_type": "code",
      "execution_count": null,
      "metadata": {
        "id": "q6K8JnQS2Lj1"
      },
      "outputs": [],
      "source": [
        "s = np.random.uniform(-10, +10, 10)\n",
        "np.copysign(np.ceil(np.abs(s)), s)"
      ]
    },
    {
      "cell_type": "markdown",
      "metadata": {
        "id": "yRXR3QnT2Lj2"
      },
      "source": [
        "#### 30. How to find common values between two arrays? (★☆☆) \n",
        "(**hint**: np.intersect1d)"
      ]
    },
    {
      "cell_type": "code",
      "execution_count": null,
      "metadata": {
        "id": "JsdVUo0d2Lj3"
      },
      "outputs": [],
      "source": [
        "t0 = np.arange(0, 20)\n",
        "t1 = np.arange(5, 15)\n",
        "t2 = np.intersect1d(t1, t0)\n",
        "t2"
      ]
    },
    {
      "cell_type": "markdown",
      "metadata": {
        "id": "ZB0rb9Cl2Lj3"
      },
      "source": [
        "#### 31. How to ignore all numpy warnings (not recommended)? (★☆☆) \n",
        "(**hint**: np.seterr, np.errstate)"
      ]
    },
    {
      "cell_type": "code",
      "execution_count": null,
      "metadata": {
        "id": "HDOLjdeY2Lj4"
      },
      "outputs": [],
      "source": [
        "defaults = np.seterr(all=\"ignore\")"
      ]
    },
    {
      "cell_type": "markdown",
      "metadata": {
        "id": "tHyyEC2i2Lj4"
      },
      "source": [
        "#### 32. Is the following expressions true? (★☆☆) \n",
        "(**hint**: imaginary number)"
      ]
    },
    {
      "cell_type": "markdown",
      "metadata": {
        "id": "XlhlSM0w2Lj5"
      },
      "source": [
        "```python\n",
        "np.sqrt(-1) == np.emath.sqrt(-1)\n",
        "```"
      ]
    },
    {
      "cell_type": "code",
      "execution_count": null,
      "metadata": {
        "id": "m7YyK1yX2Lj6"
      },
      "outputs": [],
      "source": [
        "# False"
      ]
    },
    {
      "cell_type": "markdown",
      "metadata": {
        "id": "KXck0zO-2Lj6"
      },
      "source": [
        "#### 33. How to get the dates of yesterday, today and tomorrow? (★☆☆) \n",
        "(**hint**: np.datetime64, np.timedelta64)"
      ]
    },
    {
      "cell_type": "code",
      "execution_count": null,
      "metadata": {
        "collapsed": true,
        "id": "u21Uq1Lu2Lj7"
      },
      "outputs": [],
      "source": [
        "today = np.datetime64('today', 'D')\n",
        "yesterday = today - np.datetime64(1, 'D')\n",
        "tomorrow = today + np.datetime64(1, 'D')\n",
        "print(yesterday)\n",
        "print(today)\n",
        "tomorrow"
      ]
    },
    {
      "cell_type": "markdown",
      "metadata": {
        "id": "_xusRu8A2Lj7"
      },
      "source": [
        "#### 34. How to get all the dates corresponding to the month of July 2016? (★★☆) \n",
        "(**hint**: np.arange(dtype=datetime64\\['D'\\]))"
      ]
    },
    {
      "cell_type": "code",
      "execution_count": null,
      "metadata": {
        "id": "Gwat-4kU2Lj8"
      },
      "outputs": [],
      "source": [
        "u = np.arange('2016-07', '2016-08', dtype='datetime64[D]')\n",
        "u"
      ]
    },
    {
      "cell_type": "markdown",
      "metadata": {
        "id": "TdhR0sPG2Lj8"
      },
      "source": [
        "#### 35. How to compute ((A+B)\\*(-A/2)) in place (without copy)? (★★☆) \n",
        "(**hint**: np.add(out=), np.negative(out=), np.multiply(out=), np.divide(out=))"
      ]
    },
    {
      "cell_type": "code",
      "execution_count": null,
      "metadata": {
        "id": "eBoVQlyz2Lj9"
      },
      "outputs": [],
      "source": [
        "A = np.ones(3) * 1\n",
        "B = np.ones(3) * 2\n",
        "np.add(A, B, out=B)\n",
        "np.divide(A, 2, out=A)\n",
        "np.negative(A, out=A)\n",
        "s = np.multiply(A, B, out=A)\n",
        "s"
      ]
    },
    {
      "cell_type": "markdown",
      "metadata": {
        "id": "R6s3hhM-2Lj9"
      },
      "source": [
        "#### 36. Extract the integer part of a random array using 5 different methods (★★☆) \n",
        "\n",
        "(**hint**: %, np.floor, np.ceil, astype, np.trunc)"
      ]
    },
    {
      "cell_type": "code",
      "execution_count": null,
      "metadata": {
        "id": "GydapVSV2Lj-"
      },
      "outputs": [],
      "source": [
        "v = np.random.uniform(-10, +10, 10)\n",
        "v.astype(np.int32)\n",
        "v0 = np.trunc(v)\n",
        "v0"
      ]
    },
    {
      "cell_type": "markdown",
      "metadata": {
        "id": "qgrRSLAj2Lj-"
      },
      "source": [
        "#### 37. Create a 5x5 matrix with row values ranging from 0 to 4 (★★☆) \n",
        "(**hint**: np.arange)"
      ]
    },
    {
      "cell_type": "code",
      "execution_count": null,
      "metadata": {
        "id": "o10J5PjI2Lj_"
      },
      "outputs": [],
      "source": [
        "w = np.zeros((5,5),dtype=int)\n",
        "w += np.arange(5)\n",
        "w"
      ]
    },
    {
      "cell_type": "markdown",
      "metadata": {
        "id": "5r087sm_2Lj_"
      },
      "source": [
        "#### 38. Consider a generator function that generates 10 integers and use it to build an array (★☆☆) \n",
        "(**hint**: np.fromiter)"
      ]
    },
    {
      "cell_type": "code",
      "execution_count": null,
      "metadata": {
        "id": "Vp6RHtFy2LkA"
      },
      "outputs": [],
      "source": [
        "def generate_integers():\n",
        "    for i in range(10):\n",
        "        yield i\n",
        "y = np.fromiter(generate_integers(), dtype=np.float32, count=-1)\n",
        "y"
      ]
    },
    {
      "cell_type": "markdown",
      "metadata": {
        "id": "jWuQ094O2LkB"
      },
      "source": [
        "#### 39. Create a vector of size 10 with values ranging from 0 to 1, both excluded (★★☆) \n",
        "(**hint**: np.linspace)"
      ]
    },
    {
      "cell_type": "code",
      "execution_count": null,
      "metadata": {
        "id": "QpefyTEs2LkC"
      },
      "outputs": [],
      "source": [
        "z = np.linspace(0.01,1,10, endpoint=False)"
      ]
    },
    {
      "cell_type": "markdown",
      "metadata": {
        "id": "hLy3O2JX2LkC"
      },
      "source": [
        "#### 40. Create a random vector of size 10 and sort it (★★☆) \n",
        "(**hint**: sort)"
      ]
    },
    {
      "cell_type": "code",
      "execution_count": null,
      "metadata": {
        "id": "VCbwGLBh2LkD"
      },
      "outputs": [],
      "source": [
        "A = np.random.random(10)\n",
        "A.sort()\n",
        "A"
      ]
    },
    {
      "cell_type": "markdown",
      "metadata": {
        "id": "aEyUbtjI2LkE"
      },
      "source": [
        "#### 41. How to sum a small array faster than np.sum? (★★☆) \n",
        "(**hint**: np.add.reduce)"
      ]
    },
    {
      "cell_type": "code",
      "execution_count": null,
      "metadata": {
        "id": "XvVh-rog2LkF"
      },
      "outputs": [],
      "source": [
        "B = np.arange(1000)\n",
        "B0 = np.add.reduce(B)\n",
        "B0"
      ]
    },
    {
      "cell_type": "markdown",
      "metadata": {
        "id": "nbgVRALd2LkG"
      },
      "source": [
        "#### 42. Consider two random array A and B, check if they are equal (★★☆) \n",
        "(**hint**: np.allclose, np.array\\_equal)"
      ]
    },
    {
      "cell_type": "code",
      "execution_count": null,
      "metadata": {
        "id": "AK91xSxu2LkH"
      },
      "outputs": [],
      "source": [
        "C = np.arange(10)\n",
        "C0 = np.arange(15)\n",
        "np.array_equal(A, B)"
      ]
    },
    {
      "cell_type": "markdown",
      "metadata": {
        "id": "d1EPNlZR2LkH"
      },
      "source": [
        "#### 43. Make an array immutable (read-only) (★★☆) \n",
        "(**hint**: flags.writeable)"
      ]
    },
    {
      "cell_type": "code",
      "execution_count": null,
      "metadata": {
        "id": "nOekNEp62LkM"
      },
      "outputs": [],
      "source": [
        "D = np.zeros(10)\n",
        "D.flags.writeable = False\n",
        "# D[8] = 1 # ValueError"
      ]
    },
    {
      "cell_type": "markdown",
      "metadata": {
        "id": "JKT45PuV2LkN"
      },
      "source": [
        "#### 44. Consider a random 10x2 matrix representing cartesian coordinates, convert them to polar coordinates (★★☆) \n",
        "(**hint**: np.sqrt, np.arctan2)"
      ]
    },
    {
      "cell_type": "code",
      "execution_count": null,
      "metadata": {
        "id": "JEyVc-jc2LkN"
      },
      "outputs": [],
      "source": [
        "E = np.random.random((10,2))\n",
        "E0,E1 = E[:,0], E[:,1]\n",
        "E2 = np.sqrt(E0**2+E1**2) # amplitude\n",
        "E3 = np.arctan2(E1,E0) # angle\n",
        "print(E2)\n",
        "E3"
      ]
    },
    {
      "cell_type": "markdown",
      "metadata": {
        "id": "zdGtx2Jt2LkO"
      },
      "source": [
        "#### 45. Create random vector of size 10 and replace the maximum value by 0 (★★☆) \n",
        "(**hint**: argmax)"
      ]
    },
    {
      "cell_type": "code",
      "execution_count": null,
      "metadata": {
        "id": "UOYCpSz22LkO"
      },
      "outputs": [],
      "source": [
        "F = np.random.random(10)\n",
        "F[F.argmax()] = 0\n",
        "F"
      ]
    },
    {
      "cell_type": "markdown",
      "metadata": {
        "id": "GhGo8g9A2LkP"
      },
      "source": [
        "#### 46. Create a structured array with `x` and `y` coordinates covering the \\[0,1\\]x\\[0,1\\] area (★★☆) \n",
        "(**hint**: np.meshgrid)"
      ]
    },
    {
      "cell_type": "code",
      "execution_count": null,
      "metadata": {
        "id": "QeQBGLFM2LkP"
      },
      "outputs": [],
      "source": [
        "G = np.zeros((5, 5), [('x', float), ('y', float)])\n",
        "G['x'], G['y'] = np.meshgrid(np.linspace(0, 1, 5), np.linspace(0, 1, 5))\n",
        "G"
      ]
    },
    {
      "cell_type": "markdown",
      "metadata": {
        "id": "0MjcqCv62LkQ"
      },
      "source": [
        "####  47. Given two arrays, X and Y, construct the Cauchy matrix C (Cij =1/(xi - yj)) \n",
        "(**hint**: np.subtract.outer)"
      ]
    },
    {
      "cell_type": "code",
      "execution_count": null,
      "metadata": {
        "id": "dar5haSv2LkR"
      },
      "outputs": [],
      "source": [
        "x = np.random.random((5, 5))\n",
        "y = np.random.random((5, 5))\n",
        "c = 1 / (x - y)\n",
        "c = 1 / np.subtract.outer(x, y)\n",
        "np.linalg.det(c)\n",
        "c"
      ]
    },
    {
      "cell_type": "markdown",
      "metadata": {
        "id": "Spoibzzx2LkR"
      },
      "source": [
        "#### 48. Print the minimum and maximum representable value for each numpy scalar type (★★☆) \n",
        "(**hint**: np.iinfo, np.finfo, eps)"
      ]
    },
    {
      "cell_type": "code",
      "execution_count": null,
      "metadata": {
        "id": "x-z6atSl2LkS"
      },
      "outputs": [],
      "source": [
        "for dtype in [np.int8, np.int32, np.int64]:\n",
        "   print(np.iinfo(dtype).min)\n",
        "   print(np.iinfo(dtype).max)\n",
        "for dtype in [np.float32, np.float64]:\n",
        "   print(np.finfo(dtype).min)\n",
        "   print(np.finfo(dtype).max)\n",
        "   print(np.finfo(dtype).eps)"
      ]
    },
    {
      "cell_type": "markdown",
      "metadata": {
        "id": "XQ00H4U02LkT"
      },
      "source": [
        "#### 49. How to print all the values of an array? (★★☆) \n",
        "(**hint**: np.set\\_printoptions)"
      ]
    },
    {
      "cell_type": "code",
      "execution_count": null,
      "metadata": {
        "id": "iH6brWGt2LkT"
      },
      "outputs": [],
      "source": [
        "np.set_printoptions(threshold=np.inf)\n",
        "I = np.zeros((25,25))\n",
        "print(I)"
      ]
    },
    {
      "cell_type": "markdown",
      "metadata": {
        "id": "mm4V-R6Z2LkU"
      },
      "source": [
        "#### 50. How to find the closest value (to a given scalar) in a vector? (★★☆) \n",
        "(**hint**: argmin)"
      ]
    },
    {
      "cell_type": "code",
      "execution_count": null,
      "metadata": {
        "id": "JXi_4lFW2LkU"
      },
      "outputs": [],
      "source": [
        "H = np.arange(100)\n",
        "H0 = np.random.uniform(0,100)\n",
        "index = (np.abs(H-H0)).argmin()\n",
        "H[index]"
      ]
    },
    {
      "cell_type": "markdown",
      "metadata": {
        "id": "x8UjOCZK2LkV"
      },
      "source": [
        "#### 51. Create a structured array representing a position (x,y) and a color (r,g,b) (★★☆) \n",
        "(**hint**: dtype)"
      ]
    },
    {
      "cell_type": "code",
      "execution_count": null,
      "metadata": {
        "id": "cIjURu2k2LkW"
      },
      "outputs": [],
      "source": [
        "J = np.zeros(10, [ ('position', [ ('x', float, 1),\n",
        "                                   ('y', float, 1)]),\n",
        "                    ('color',    [ ('r', float, 1),\n",
        "                                   ('g', float, 1),\n",
        "                                   ('b', float, 1)])])\n",
        "J"
      ]
    },
    {
      "cell_type": "markdown",
      "metadata": {
        "id": "Nc9VfuPo2LkX"
      },
      "source": [
        "#### 52. Consider a random vector with shape (100,2) representing coordinates, find point by point distances (★★☆) \n",
        "(**hint**: np.atleast\\_2d, T, np.sqrt)"
      ]
    },
    {
      "cell_type": "code",
      "execution_count": null,
      "metadata": {
        "id": "XC9YB_hu2LkY"
      },
      "outputs": [],
      "source": [
        "K = np.random.random((100,2))\n",
        "X,Y = np.atleast_2d(K[:,0]), np.atleast_2d(K[:,1])\n",
        "D = np.sqrt( (X-X.T)**2 + (Y-Y.T)**2)\n",
        "D"
      ]
    },
    {
      "cell_type": "markdown",
      "metadata": {
        "id": "pySpAkxB2LkY"
      },
      "source": [
        "#### 53. How to convert a float (32 bits) array into an integer (32 bits) in place? \n",
        "(**hint**: astype(copy=False))"
      ]
    },
    {
      "cell_type": "code",
      "execution_count": null,
      "metadata": {
        "id": "gVC1pKyi2LkZ"
      },
      "outputs": [],
      "source": [
        "L = np.arange(10, dtype=np.int32)\n",
        "L = L.astype(np.float32, copy=False)\n",
        "L"
      ]
    },
    {
      "cell_type": "markdown",
      "metadata": {
        "id": "4AxUJbFx2LkZ"
      },
      "source": [
        "#### 54. How to read the following file? (★★☆) \n",
        "(**hint**: np.genfromtxt)"
      ]
    },
    {
      "cell_type": "markdown",
      "metadata": {
        "id": "iQfKYPEE2Lka"
      },
      "source": [
        "```\n",
        "1, 2, 3, 4, 5\n",
        "6,  ,  , 7, 8\n",
        " ,  , 9,10,11\n",
        "```"
      ]
    },
    {
      "cell_type": "code",
      "execution_count": null,
      "metadata": {
        "id": "yAEO4N0U2Lka"
      },
      "outputs": [],
      "source": [
        "# missing.dat contains the elements\n",
        "M = np.genfromtxt(\"missing.dat\", delimiter=\",\")\n",
        "M"
      ]
    },
    {
      "cell_type": "markdown",
      "metadata": {
        "id": "DdB77GNq2Lkb"
      },
      "source": [
        "#### 55. What is the equivalent of enumerate for numpy arrays? (★★☆) \n",
        "(**hint**: np.ndenumerate, np.ndindex)"
      ]
    },
    {
      "cell_type": "code",
      "execution_count": null,
      "metadata": {
        "id": "UdD2Jnw62Lkb"
      },
      "outputs": [],
      "source": [
        "N = np.arange(9).reshape(3,3)\n",
        "for index, value in np.ndenumerate(N):\n",
        "    print(index, value)\n",
        "for index in np.ndindex(N.shape):\n",
        "    print(index, N[index])\n",
        "N"
      ]
    },
    {
      "cell_type": "markdown",
      "metadata": {
        "id": "Q_anvPlz2Lkc"
      },
      "source": [
        "#### 56. Generate a generic 2D Gaussian-like array (★★☆) \n",
        "(**hint**: np.meshgrid, np.exp)"
      ]
    },
    {
      "cell_type": "code",
      "execution_count": null,
      "metadata": {
        "id": "b-s_VqhR2Lkc"
      },
      "outputs": [],
      "source": [
        "X, Y = np.meshgrid(np.linspace(-1,1,5), np.linspace(-1,1,5))\n",
        "O0 = np.sqrt(X*X+Y*Y)\n",
        "sigma, mu = 1.0, 0.0\n",
        "O = np.exp(-( (O0-mu)**2 / ( 2.0 * sigma**2 ) ) )\n",
        "O"
      ]
    },
    {
      "cell_type": "markdown",
      "metadata": {
        "id": "JMZlsflJ2Lkc"
      },
      "source": [
        "#### 57. How to randomly place p elements in a 2D array? (★★☆) \n",
        "(**hint**: np.put, np.random.choice)"
      ]
    },
    {
      "cell_type": "code",
      "execution_count": null,
      "metadata": {
        "id": "_IuO6QgJ2Lkc"
      },
      "outputs": [],
      "source": [
        "n = 10\n",
        "p = 10\n",
        "P = np.zeros((n,n))\n",
        "np.put(P, np.random.choice(range(n*n), p, replace=False),1)\n",
        "P"
      ]
    },
    {
      "cell_type": "markdown",
      "metadata": {
        "id": "mvsLYu6H2Lkd"
      },
      "source": [
        "#### 58. Subtract the mean of each row of a matrix (★★☆) \n",
        "(**hint**: mean(axis=,keepdims=))"
      ]
    },
    {
      "cell_type": "code",
      "execution_count": null,
      "metadata": {
        "id": "0d6WHltJ2Lke"
      },
      "outputs": [],
      "source": [
        "X = np.random.rand(5, 8)\n",
        "Y = X - X.mean(axis=1, keepdims=True)\n",
        "Y"
      ]
    },
    {
      "cell_type": "markdown",
      "metadata": {
        "id": "mzeUCT8L2Lke"
      },
      "source": [
        "#### 59. How to sort an array by the nth column? (★★☆) \n",
        "(**hint**: argsort)"
      ]
    },
    {
      "cell_type": "code",
      "execution_count": null,
      "metadata": {
        "id": "EQp7cpxh2Lkf"
      },
      "outputs": [],
      "source": [
        "Q = np.random.randint(0,15,(4,4))\n",
        "print(Q)\n",
        "Q[Q[:,2].argsort()]"
      ]
    },
    {
      "cell_type": "markdown",
      "metadata": {
        "id": "byaDkpS42Lkf"
      },
      "source": [
        "#### 60. How to tell if a given 2D array has null columns? (★★☆) \n",
        "(**hint**: any, ~)"
      ]
    },
    {
      "cell_type": "code",
      "execution_count": null,
      "metadata": {
        "id": "pObzQa-l2Lkg"
      },
      "outputs": [],
      "source": [
        "R = np.random.randint(0,15,(4,4))\n",
        "(~R.any(axis=0)).any()"
      ]
    },
    {
      "cell_type": "markdown",
      "metadata": {
        "id": "tCoN22no2Lkg"
      },
      "source": [
        "#### 61. Find the nearest value from a given value in an array (★★☆) \n",
        "(**hint**: np.abs, argmin, flat)"
      ]
    },
    {
      "cell_type": "code",
      "execution_count": null,
      "metadata": {
        "id": "CwuNwYp12Lkh"
      },
      "outputs": [],
      "source": [
        "S = np.random.uniform(0,1,10)\n",
        "S0 = S.flat[np.abs(S - 0.5).argmin()]\n",
        "S0"
      ]
    },
    {
      "cell_type": "markdown",
      "metadata": {
        "id": "0Ke2KFh52Lki"
      },
      "source": [
        "#### 62. Considering two arrays with shape (1,3) and (3,1), how to compute their sum using an iterator? (★★☆) \n",
        "(**hint**: np.nditer)"
      ]
    },
    {
      "cell_type": "code",
      "execution_count": null,
      "metadata": {
        "id": "rLhAM31U2Lki"
      },
      "outputs": [],
      "source": [
        "T0 = np.arange(3).reshape(3,1)\n",
        "T1 = np.arange(3).reshape(1,3)\n",
        "it = np.nditer([T0,T1,None])\n",
        "for x,y,z in it: z[...] = x + y\n",
        "it.operands[2]"
      ]
    },
    {
      "cell_type": "markdown",
      "metadata": {
        "id": "3DnKm80e2Lkj"
      },
      "source": [
        "#### 63. Create an array class that has a name attribute (★★☆) \n",
        "(**hint**: class method)"
      ]
    },
    {
      "cell_type": "code",
      "execution_count": null,
      "metadata": {
        "id": "ncLU39mv2Lkj"
      },
      "outputs": [],
      "source": [
        "class NamedArray(np.ndarray):\n",
        "    def __new__(cls, array, name=\"no name\"):\n",
        "        obj = np.asarray(array).view(cls)\n",
        "        obj.name = name\n",
        "        return obj\n",
        "    def __array_finalize__(self, obj):\n",
        "        if obj is None: return\n",
        "        self.info = getattr(obj, 'name', \"no name\")\n",
        "U = NamedArray(np.arange(20), \"range_20\")\n",
        "U.name"
      ]
    },
    {
      "cell_type": "markdown",
      "metadata": {
        "id": "Wer15--J2Lkk"
      },
      "source": [
        "#### 64. Consider a given vector, how to add 1 to each element indexed by a second vector (be careful with repeated indices)? (★★★) \n",
        "(**hint**: np.bincount | np.add.at)"
      ]
    },
    {
      "cell_type": "code",
      "execution_count": null,
      "metadata": {
        "id": "Gmp7pP5j2Lkq"
      },
      "outputs": [],
      "source": [
        "V = np.ones(10)\n",
        "V0 = np.random.randint(0,len(V),20)\n",
        "np.add.at(V, V0, 1)\n",
        "V"
      ]
    },
    {
      "cell_type": "markdown",
      "metadata": {
        "id": "p-Tr4qEb2Lkr"
      },
      "source": [
        "#### 65. How to accumulate elements of a vector (X) to an array (F) based on an index list (I)? (★★★) \n",
        "(**hint**: np.bincount)"
      ]
    },
    {
      "cell_type": "code",
      "execution_count": null,
      "metadata": {
        "id": "-4ebY3i02Lks"
      },
      "outputs": [],
      "source": [
        "W0 = [1,2,3,4,5,6,7]\n",
        "W1 = [10,9,8,6,7,5,4]\n",
        "W = np.bincount(W1,W0)\n",
        "w"
      ]
    },
    {
      "cell_type": "markdown",
      "metadata": {
        "id": "RpNyTlrA2Lks"
      },
      "source": [
        "#### 66. Considering a (w,h,3) image of (dtype=ubyte), compute the number of unique colors (★★★) \n",
        "(**hint**: np.unique)"
      ]
    },
    {
      "cell_type": "code",
      "execution_count": null,
      "metadata": {
        "id": "zWcEY7k52Lkt"
      },
      "outputs": [],
      "source": [
        "w, h = 256, 256\n",
        "X = np.random.randint(0, 4, (h, w, 3)).astype(np.ubyte)\n",
        "colors = np.unique(X.reshape(-1, 3), axis=0)\n",
        "n = len(colors)\n",
        "n"
      ]
    },
    {
      "cell_type": "markdown",
      "metadata": {
        "id": "Z-BZwWYw2Lku"
      },
      "source": [
        "#### 67. Considering a four dimensions array, how to get sum over the last two axis at once? (★★★) \n",
        "(**hint**: sum(axis=(-2,-1)))"
      ]
    },
    {
      "cell_type": "code",
      "execution_count": null,
      "metadata": {
        "id": "4yoBx5Mb2Lku"
      },
      "outputs": [],
      "source": [
        "Y = np.random.randint(0,10,(3,4,3,4))\n",
        "sum = Y.sum(axis=(-2,-1))\n",
        "sum"
      ]
    },
    {
      "cell_type": "markdown",
      "metadata": {
        "id": "KNv2iPoZ2Lkv"
      },
      "source": [
        "#### 68. Considering a one-dimensional vector D, how to compute means of subsets of D using a vector S of same size describing subset  indices? (★★★) \n",
        "(**hint**: np.bincount)"
      ]
    },
    {
      "cell_type": "code",
      "execution_count": null,
      "metadata": {
        "id": "toMvu6uo2Lkv"
      },
      "outputs": [],
      "source": [
        "D = np.random.uniform(0,1,100)\n",
        "S = np.random.randint(0,10,100)\n",
        "D_sums = np.bincount(S, weights=D)\n",
        "D_counts = np.bincount(S)\n",
        "D_means = D_sums / D_counts\n",
        "D_means"
      ]
    },
    {
      "cell_type": "markdown",
      "metadata": {
        "id": "PBk99mBJ2Lkw"
      },
      "source": [
        "#### 69. How to get the diagonal of a dot product? (★★★) \n",
        "(**hint**: np.diag)"
      ]
    },
    {
      "cell_type": "code",
      "execution_count": null,
      "metadata": {
        "id": "eeL4kw2P2Lkx"
      },
      "outputs": [],
      "source": [
        "Z0 = np.random.uniform(0,1,(6,6))\n",
        "Z1 = np.random.uniform(0,1,(6,6))\n",
        "Z = np.diag(np.dot(Z0, Z1))\n",
        "Z"
      ]
    },
    {
      "cell_type": "markdown",
      "metadata": {
        "id": "47X87QiU2Lkx"
      },
      "source": [
        "#### 70. Consider the vector \\[1, 2, 3, 4, 5\\], how to build a new vector with 3 consecutive zeros interleaved between each value? (★★★) \n",
        "(**hint**: array\\[::4\\])"
      ]
    },
    {
      "cell_type": "code",
      "execution_count": null,
      "metadata": {
        "id": "mdHlwqT02Lky"
      },
      "outputs": [],
      "source": [
        "a = np.array([1,2,3,4,5])\n",
        "a0 = np.zeros(len(a) + (len(a)-1)*(3))\n",
        "a0[::4] = a\n",
        "a0"
      ]
    },
    {
      "cell_type": "markdown",
      "metadata": {
        "id": "HYmwkEVe2Lky"
      },
      "source": [
        "#### 71. Consider an array of dimension (5,5,3), how to mulitply it by an array with dimensions (5,5)? (★★★) \n",
        "(**hint**: array\\[:, :, None\\])"
      ]
    },
    {
      "cell_type": "code",
      "execution_count": null,
      "metadata": {
        "collapsed": true,
        "id": "H1vWqQnq2Lkz"
      },
      "outputs": [],
      "source": [
        "b = np.ones((5,5,3))\n",
        "b0 = 2*np.ones((5,5))\n",
        "b * b0[:,:,None]"
      ]
    },
    {
      "cell_type": "markdown",
      "metadata": {
        "id": "LPzyv_O72Lkz"
      },
      "source": [
        "#### 72. How to swap two rows of an array? (★★★) \n",
        "(**hint**: array\\[\\[\\]\\] = array\\[\\[\\]\\])"
      ]
    },
    {
      "cell_type": "code",
      "execution_count": null,
      "metadata": {
        "id": "IjpjHT5j2Lk0"
      },
      "outputs": [],
      "source": [
        "C = np.arange(9).reshape(3,3)\n",
        "C[[0,1]] = C[[1,0]]\n",
        "C"
      ]
    },
    {
      "cell_type": "markdown",
      "metadata": {
        "id": "L-KF0R2J2Lk1"
      },
      "source": [
        "#### 73. Consider a set of 10 triplets describing 10 triangles (with shared vertices), find the set of unique line segments composing all the  triangles (★★★) \n",
        "(**hint**: repeat, np.roll, np.sort, view, np.unique)"
      ]
    },
    {
      "cell_type": "code",
      "execution_count": null,
      "metadata": {
        "id": "2152VLSq2Lk2"
      },
      "outputs": [],
      "source": [
        "D1 = np.random.randint(0,100,(10,3))\n",
        "D = np.roll(D1.repeat(2,axis=1),-1,axis=1)\n",
        "D = D.reshape(len(D)*3,2)\n",
        "D = np.sort(D,axis=1)\n",
        "D0 = D.view( dtype=[('p0',D.dtype),('p1',D.dtype)] )\n",
        "D0 = np.unique(D0)\n",
        "D0"
      ]
    },
    {
      "cell_type": "markdown",
      "metadata": {
        "id": "PWGzZQ832Lk2"
      },
      "source": [
        "#### 74. Given an array C that is a bincount, how to produce an array A such that np.bincount(A) == C? (★★★) \n",
        "(**hint**: np.repeat)"
      ]
    },
    {
      "cell_type": "code",
      "execution_count": null,
      "metadata": {
        "id": "nHF0pmrx2Lk3"
      },
      "outputs": [],
      "source": [
        "C = np.bincount([1,1,2,3,4,4,6])\n",
        "A = np.repeat(np.arange(len(C)), C)\n",
        "A"
      ]
    },
    {
      "cell_type": "markdown",
      "metadata": {
        "id": "6Dmbp-Ac2Lk4"
      },
      "source": [
        "#### 75. How to compute averages using a sliding window over an array? (★★★) \n",
        "(**hint**: np.cumsum)"
      ]
    },
    {
      "cell_type": "code",
      "execution_count": null,
      "metadata": {
        "id": "z-Rh0_HP2Lk5"
      },
      "outputs": [],
      "source": [
        "def moving_average(a, n=3) :\n",
        "    ret = np.cumsum(a, dtype=float)\n",
        "    ret[n:] = ret[n:] - ret[:-n]\n",
        "    return ret[n - 1:] / n\n",
        "E = np.arange(20)\n",
        "moving_average(E, n=3)"
      ]
    },
    {
      "cell_type": "markdown",
      "metadata": {
        "id": "F7JDazCr2Lk5"
      },
      "source": [
        "#### 76. Consider a one-dimensional array Z, build a two-dimensional array whose first row is (Z\\[0\\],Z\\[1\\],Z\\[2\\]) and each subsequent row is  shifted by 1 (last row should be (Z\\[-3\\],Z\\[-2\\],Z\\[-1\\]) (★★★) \n",
        "(**hint**: from numpy.lib import stride_tricks)"
      ]
    },
    {
      "cell_type": "code",
      "execution_count": null,
      "metadata": {
        "id": "YSW-Mmxo2Lk7"
      },
      "outputs": [],
      "source": [
        "from numpy.lib import stride_tricks\n",
        "\n",
        "def rolling(a, window):\n",
        "    shape = (a.size - window + 1, window)\n",
        "    strides = (a.strides[0], a.strides[0])\n",
        "    return stride_tricks.as_strided(a, shape=shape, strides=strides)\n",
        "F = rolling(np.arange(10), 3)\n",
        "F"
      ]
    },
    {
      "cell_type": "markdown",
      "metadata": {
        "id": "0bmobSYQ2Lk7"
      },
      "source": [
        "#### 77. How to negate a boolean, or to change the sign of a float inplace? (★★★) \n",
        "(**hint**: np.logical_not, np.negative)"
      ]
    },
    {
      "cell_type": "code",
      "execution_count": null,
      "metadata": {
        "id": "gM39DOr92Lk8"
      },
      "outputs": [],
      "source": [
        "G = np.random.randint(0,2,100)\n",
        "np.negative(G, out=G)\n",
        "G"
      ]
    },
    {
      "cell_type": "markdown",
      "metadata": {
        "id": "cAv6PyiT2Lk8"
      },
      "source": [
        "#### 78. Consider 2 sets of points P0,P1 describing lines (2d) and a point p, how to compute distance from p to each line i  (P0\\[i\\],P1\\[i\\])? (★★★)"
      ]
    },
    {
      "cell_type": "code",
      "execution_count": null,
      "metadata": {
        "id": "uwfP1huf2Lk9"
      },
      "outputs": [],
      "source": [
        "def distance(P0, P1, p):\n",
        "    T = P1 - P0\n",
        "    L = (T**2).sum(axis=1)\n",
        "    U = -((P0[:,0]-p[...,0])*T[:,0] + (P0[:,1]-p[...,1])*T[:,1]) / L\n",
        "    U = U.reshape(len(U),1)\n",
        "    D = P0 + U*T - p\n",
        "    return np.sqrt((D**2).sum(axis=1))\n",
        "\n",
        "P0 = np.random.uniform(-10,10,(10,2))\n",
        "P1 = np.random.uniform(-10,10,(10,2))\n",
        "p  = np.random.uniform(-10,10,(10,2))\n",
        "distance(P0, P1, p)"
      ]
    },
    {
      "cell_type": "markdown",
      "metadata": {
        "id": "grYcHcNm2Lk-"
      },
      "source": [
        "#### 79. Consider 2 sets of points P0,P1 describing lines (2d) and a set of points P, how to compute distance from each point j (P\\[j\\]) to each line i (P0\\[i\\],P1\\[i\\])? (★★★)"
      ]
    },
    {
      "cell_type": "code",
      "execution_count": null,
      "metadata": {
        "id": "p45_8aqO2Lk-"
      },
      "outputs": [],
      "source": [
        "def distance(P0, P1, p):\n",
        "    T = P1 - P0\n",
        "    L = (T**2).sum(axis=1)\n",
        "    U = -((P0[:,0]-p[...,0])*T[:,0] + (P0[:,1]-p[...,1])*T[:,1]) / L\n",
        "    U = U.reshape(len(U),1)\n",
        "    D = P0 + U*T - p\n",
        "    return np.sqrt((D**2).sum(axis=1))\n",
        "\n",
        "P0 = np.random.uniform(-10, 10, (10,2))\n",
        "P1 = np.random.uniform(-10,10,(10,2))\n",
        "p = np.random.uniform(-10, 10, (10,2))\n",
        "print(np.array([distance(P0,P1,p_i) for p_i in p]))"
      ]
    },
    {
      "cell_type": "markdown",
      "metadata": {
        "id": "DX3qWldP2Lk_"
      },
      "source": [
        "#### 80. Consider an arbitrary array, write a function that extract a subpart with a fixed shape and centered on a given element (pad with a `fill` value when necessary) (★★★) \n",
        "(**hint**: minimum, maximum)"
      ]
    },
    {
      "cell_type": "code",
      "execution_count": null,
      "metadata": {
        "id": "btFNhFP82LlB"
      },
      "outputs": [],
      "source": [
        ""
      ]
    },
    {
      "cell_type": "markdown",
      "metadata": {
        "id": "h-1hkYXp2LlJ"
      },
      "source": [
        "#### 81. Consider an array Z = \\[1,2,3,4,5,6,7,8,9,10,11,12,13,14\\], how to generate an array R = \\[\\[1,2,3,4\\], \\[2,3,4,5\\], \\[3,4,5,6\\], ..., \\[11,12,13,14\\]\\]? (★★★) \n",
        "(**hint**: stride\\_tricks.as\\_strided)"
      ]
    },
    {
      "cell_type": "code",
      "execution_count": null,
      "metadata": {
        "id": "rBFFrCBX2LlJ"
      },
      "outputs": [],
      "source": [
        "from numpy.lib import stride_tricks\n",
        "\n",
        "Z = np.arange(1,15,dtype=np.uint32)\n",
        "R = stride_tricks.as_strided(Z,(11,4),(4,4))\n",
        "R"
      ]
    },
    {
      "cell_type": "markdown",
      "metadata": {
        "id": "j-8mFLYh2LlK"
      },
      "source": [
        "#### 82. Compute a matrix rank (★★★) \n",
        "(**hint**: np.linalg.svd) (suggestion: np.linalg.svd)"
      ]
    },
    {
      "cell_type": "code",
      "execution_count": null,
      "metadata": {
        "id": "qhUNkPfK2LlL"
      },
      "outputs": [],
      "source": [
        "A = np.random.uniform(0,1,(10,10))\n",
        "A0, A1, A2 = np.linalg.svd(A) \n",
        "rank = np.sum(A1 > 1e-10)\n",
        "print(rank)"
      ]
    },
    {
      "cell_type": "markdown",
      "metadata": {
        "id": "TdAB-rH-2LlL"
      },
      "source": [
        "#### 83. How to find the most frequent value in an array? \n",
        "(**hint**: np.bincount, argmax)"
      ]
    },
    {
      "cell_type": "code",
      "execution_count": null,
      "metadata": {
        "id": "iXK_2k8F2LlM"
      },
      "outputs": [],
      "source": [
        "G = np.random.randint(0,10,100)\n",
        "G1 = np.bincount(G).argmax()\n",
        "G1"
      ]
    },
    {
      "cell_type": "markdown",
      "metadata": {
        "id": "60b9mkGF2LlM"
      },
      "source": [
        "#### 84. Extract all the contiguous 3x3 blocks from a random 10x10 matrix (★★★) \n",
        "(**hint**: stride\\_tricks.as\\_strided)"
      ]
    },
    {
      "cell_type": "code",
      "execution_count": null,
      "metadata": {
        "id": "F_R3w--x2LlU"
      },
      "outputs": [],
      "source": [
        "from numpy.lib import stride_tricks\n",
        "\n",
        "H = np.random.randint(0,5,(10,10))\n",
        "n = 3\n",
        "i = 1 + (H.shape[0]-3)\n",
        "j = 1 + (H.shape[1]-3)\n",
        "C = stride_tricks.as_strided(H, shape=(i, j, n, n), strides=H.strides + H.strides)\n",
        "C"
      ]
    },
    {
      "cell_type": "markdown",
      "metadata": {
        "id": "LIJS1RJJ2LlV"
      },
      "source": [
        "#### 85. Create a 2D array subclass such that Z\\[i,j\\] == Z\\[j,i\\] (★★★) \n",
        "(**hint**: class method)"
      ]
    },
    {
      "cell_type": "code",
      "execution_count": null,
      "metadata": {
        "id": "vDMNV8S62LlW"
      },
      "outputs": [],
      "source": [
        "class Symetric(np.ndarray):\n",
        "    def __setitem__(self, index, value):\n",
        "        i,j = index\n",
        "        super(Symetric, self).__setitem__((i,j), value)\n",
        "        super(Symetric, self).__setitem__((j,i), value)\n",
        "\n",
        "def symetric(M):\n",
        "    return np.asarray( M + M.T - np.diag(M.diagonal())).view(Symetric)\n",
        "\n",
        "S = symetric(np.random.randint(0,10,(5,5)))\n",
        "S[2,3] = 21\n",
        "print(S)"
      ]
    },
    {
      "cell_type": "markdown",
      "metadata": {
        "id": "kIHFm-D72LlW"
      },
      "source": [
        "#### 86. Consider a set of p matrices wich shape (n,n) and a set of p vectors with shape (n,1). How to compute the sum of of the p matrix products at once? (result has shape (n,1)) (★★★) \n",
        "(**hint**: np.tensordot)"
      ]
    },
    {
      "cell_type": "code",
      "execution_count": null,
      "metadata": {
        "id": "YEucZJFs2LlX"
      },
      "outputs": [],
      "source": [
        "p, n = 10, 20\n",
        "J = np.ones((p,n,n),dtype =int)\n",
        "J0 = np.ones((p,n,1),dtype = int)\n",
        "J1 = np.tensordot(J, J0, axes=[[0, 2], [0, 1]])\n",
        "J1"
      ]
    },
    {
      "cell_type": "markdown",
      "metadata": {
        "id": "wTKnaa172LlY"
      },
      "source": [
        "#### 87. Consider a 16x16 array, how to get the block-sum (block size is 4x4)? (★★★) \n",
        "(**hint**: np.add.reduceat)"
      ]
    },
    {
      "cell_type": "code",
      "execution_count": null,
      "metadata": {
        "id": "1UlV8pPJ2LlZ"
      },
      "outputs": [],
      "source": [
        "K = np.ones((16,16),dtype = int)\n",
        "K0 = 4\n",
        "K1 = np.add.reduceat(np.add.reduceat(K, np.arange(0, K.shape[0], K0), axis=0),\n",
        "                                       np.arange(0, K.shape[1], K0), axis=1)\n",
        "print(K1)"
      ]
    },
    {
      "cell_type": "markdown",
      "metadata": {
        "id": "cB0nS8it2LlZ"
      },
      "source": [
        "#### 88. How to implement the Game of Life using numpy arrays? (★★★)"
      ]
    },
    {
      "cell_type": "code",
      "execution_count": null,
      "metadata": {
        "id": "mxkqG1tt2Lla"
      },
      "outputs": [],
      "source": [
        ""
      ]
    },
    {
      "cell_type": "markdown",
      "metadata": {
        "id": "l6hvxpIo2Lla"
      },
      "source": [
        "#### 89. How to get the n largest values of an array (★★★) \n",
        "(**hint**: np.argsort | np.argpartition)"
      ]
    },
    {
      "cell_type": "code",
      "execution_count": null,
      "metadata": {
        "id": "vn9W9TfB2Llb"
      },
      "outputs": [],
      "source": [
        "L = np.arange(1000)\n",
        "np.random.shuffle(L)\n",
        "n = 10\n",
        "L0 = L[np.argsort(L)[-n:]]\n",
        "L0"
      ]
    },
    {
      "cell_type": "markdown",
      "metadata": {
        "id": "AirtREqp2Llc"
      },
      "source": [
        "#### 90. Given an arbitrary number of vectors, build the cartesian product (every combinations of every item) (★★★) \n",
        "(**hint**: np.indices)"
      ]
    },
    {
      "cell_type": "code",
      "execution_count": null,
      "metadata": {
        "scrolled": true,
        "id": "WtvgiL742Llc"
      },
      "outputs": [],
      "source": [
        ""
      ]
    },
    {
      "cell_type": "markdown",
      "metadata": {
        "id": "MbJyLjcv2Lld"
      },
      "source": [
        "#### 91. How to create a record array from a regular array? (★★★) \n",
        "(**hint**: np.core.records.fromarrays)"
      ]
    },
    {
      "cell_type": "code",
      "execution_count": null,
      "metadata": {
        "id": "nfDNN2Uy2Lld"
      },
      "outputs": [],
      "source": [
        "O = np.array([(\"Hi\", 9, 3),\n",
        "              (\"Aditya\", 1.1, 3)])\n",
        "O0 = np.core.records.fromarrays(O.T,names='col1, col2, col3',formats = 'S8, f8, i8')\n",
        "O0"
      ]
    },
    {
      "cell_type": "markdown",
      "metadata": {
        "id": "3eguSaA02Lle"
      },
      "source": [
        "#### 92. Consider a large vector Z, compute Z to the power of 3 using 3 different methods (★★★) \n",
        "(**hint**: np.power, \\*, np.einsum)"
      ]
    },
    {
      "cell_type": "code",
      "execution_count": null,
      "metadata": {
        "id": "fiOeIoBZ2Lle"
      },
      "outputs": [],
      "source": [
        "x = np.random.rand(int(9e7))\n",
        "\n",
        "print(np.power(x,3))\n",
        "print(x*x*x)\n",
        "np.einsum('i,i,i->i',x,x,x)"
      ]
    },
    {
      "cell_type": "markdown",
      "metadata": {
        "id": "jge-zgeb2Llf"
      },
      "source": [
        "#### 93. Consider two arrays A and B of shape (8,3) and (2,2). How to find rows of A that contain elements of each row of B regardless of the order of the elements in B? (★★★) \n",
        "(**hint**: np.where)"
      ]
    },
    {
      "cell_type": "code",
      "execution_count": null,
      "metadata": {
        "id": "e1DZpM752Llf"
      },
      "outputs": [],
      "source": [
        "A = np.random.randint(0,4,(8,3))\n",
        "B = np.random.randint(0,4,(2,2))\n",
        "\n",
        "F = (A[..., np.newaxis, np.newaxis] == B)\n",
        "Final = np.where(F.any((3,1)).all(1))[0]\n",
        "Final"
      ]
    },
    {
      "cell_type": "markdown",
      "metadata": {
        "id": "oR57jI412Llg"
      },
      "source": [
        "#### 94. Considering a 10x3 matrix, extract rows with unequal values (e.g. \\[2,2,3\\]) (★★★)"
      ]
    },
    {
      "cell_type": "code",
      "execution_count": null,
      "metadata": {
        "id": "eQSBQTOn2Llg"
      },
      "outputs": [],
      "source": [
        "V = np.random.randint(0,5,(10,3))\n",
        "V0 = V[V.max(axis=1) != V.min(axis=1),:]\n",
        "V0\n"
      ]
    },
    {
      "cell_type": "markdown",
      "metadata": {
        "id": "hA_VQ2si2Llg"
      },
      "source": [
        "#### 95. Convert a vector of ints into a matrix binary representation (★★★) \n",
        "(**hint**: np.unpackbits)"
      ]
    },
    {
      "cell_type": "code",
      "execution_count": null,
      "metadata": {
        "id": "e6engQjH2Llh"
      },
      "outputs": [],
      "source": [
        "Y = np.array([0, 1, 2, 3, 15, 16, 32, 64, 128], dtype=np.uint8)\n",
        "Y0 = np.unpackbits(I[:, np.newaxis], axis=1)\n",
        "Y0"
      ]
    },
    {
      "cell_type": "markdown",
      "metadata": {
        "id": "bSdGVXJ52Llh"
      },
      "source": [
        "#### 96. Given a two dimensional array, how to extract unique rows? (★★★) \n",
        "(**hint**: np.ascontiguousarray)"
      ]
    },
    {
      "cell_type": "code",
      "execution_count": null,
      "metadata": {
        "id": "xmV2wneM2Lli"
      },
      "outputs": [],
      "source": [
        "A = np.random.randint(0,2,(6,3))\n",
        "A = np.unique(A, axis=0)\n",
        "A"
      ]
    },
    {
      "cell_type": "markdown",
      "metadata": {
        "id": "hD5FaK3f2Lli"
      },
      "source": [
        "#### 97. Considering 2 vectors A & B, write the einsum equivalent of inner, outer, sum, and mul function (★★★) \n",
        "(**hint**: np.einsum)"
      ]
    },
    {
      "cell_type": "code",
      "execution_count": null,
      "metadata": {
        "id": "ysB7lKBa2Llj"
      },
      "outputs": [],
      "source": [
        "A = np.random.uniform(0,1,5)\n",
        "B = np.random.uniform(0,1,5)\n",
        "\n",
        "a0 = np.einsum('i->', A)\n",
        "a1 = np.einsum('i,i->i', A, B)\n",
        "a2 = np.einsum('i,i', A, B)\n",
        "a3 = np.einsum('i,j->ij', A, B)\n",
        "print(a0)\n",
        "print(a1)\n",
        "print(a2)\n",
        "a3"
      ]
    },
    {
      "cell_type": "markdown",
      "metadata": {
        "id": "P6IvQ7eR2Llj"
      },
      "source": [
        "#### 98. Considering a path described by two vectors (X,Y), how to sample it using equidistant samples (★★★)? \n",
        "(**hint**: np.cumsum, np.interp)"
      ]
    },
    {
      "cell_type": "code",
      "execution_count": null,
      "metadata": {
        "collapsed": true,
        "id": "gYKgSo1-2Llk"
      },
      "outputs": [],
      "source": [
        ""
      ]
    },
    {
      "cell_type": "markdown",
      "metadata": {
        "id": "Mf3KqKtg2Llk"
      },
      "source": [
        "#### 99. Given an integer n and a 2D array X, select from X the rows which can be interpreted as draws from a multinomial distribution with n degrees, i.e., the rows which only contain integers and which sum to n. (★★★) \n",
        "(**hint**: np.logical\\_and.reduce, np.mod)"
      ]
    },
    {
      "cell_type": "code",
      "execution_count": null,
      "metadata": {
        "id": "1VfRIGTH2Lll"
      },
      "outputs": [],
      "source": [
        ""
      ]
    },
    {
      "cell_type": "markdown",
      "metadata": {
        "id": "aUpiETpj2Lll"
      },
      "source": [
        "#### 100. Compute bootstrapped 95% confidence intervals for the mean of a 1D array X (i.e., resample the elements of an array with replacement N times, compute the mean of each sample, and then compute percentiles over the means). (★★★) \n",
        "(**hint**: np.percentile)"
      ]
    },
    {
      "cell_type": "code",
      "execution_count": null,
      "metadata": {
        "id": "_34UyEti2Llm"
      },
      "outputs": [],
      "source": [
        ""
      ]
    }
  ],
  "metadata": {
    "kernelspec": {
      "display_name": "Python 3",
      "language": "python",
      "name": "python3"
    },
    "language_info": {
      "codemirror_mode": {
        "name": "ipython",
        "version": 3
      },
      "file_extension": ".py",
      "mimetype": "text/x-python",
      "name": "python",
      "nbconvert_exporter": "python",
      "pygments_lexer": "ipython3",
      "version": "3.8.3"
    },
    "colab": {
      "name": "Assignment Numpy_tasks.ipynb",
      "provenance": [],
      "collapsed_sections": []
    }
  },
  "nbformat": 4,
  "nbformat_minor": 0
}